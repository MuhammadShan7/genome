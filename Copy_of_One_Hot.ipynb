{
  "nbformat": 4,
  "nbformat_minor": 0,
  "metadata": {
    "colab": {
      "provenance": [],
      "mount_file_id": "1bv5yTG4mYNfn45s1-hzefot621a8YBDl",
      "authorship_tag": "ABX9TyM2Xo26ZyHOUYDL5e1D75rk",
      "include_colab_link": true
    },
    "kernelspec": {
      "name": "python3",
      "display_name": "Python 3"
    },
    "language_info": {
      "name": "python"
    }
  },
  "cells": [
    {
      "cell_type": "markdown",
      "metadata": {
        "id": "view-in-github",
        "colab_type": "text"
      },
      "source": [
        "<a href=\"https://colab.research.google.com/github/MuhammadShan7/genome/blob/main/Copy_of_One_Hot.ipynb\" target=\"_parent\"><img src=\"https://colab.research.google.com/assets/colab-badge.svg\" alt=\"Open In Colab\"/></a>"
      ]
    },
    {
      "cell_type": "code",
      "execution_count": null,
      "metadata": {
        "id": "Z5PX6Nk8ne3V"
      },
      "outputs": [],
      "source": [
        "from numpy import array\n",
        "from numpy import argmax\n",
        "from sklearn.preprocessing import LabelEncoder\n",
        "from sklearn.preprocessing import OneHotEncoder\n",
        "import re\n"
      ]
    },
    {
      "cell_type": "code",
      "source": [
        "from google.colab import drive\n",
        "drive.mount('/content/drive')"
      ],
      "metadata": {
        "colab": {
          "base_uri": "https://localhost:8080/"
        },
        "id": "RxtCFu291lo6",
        "outputId": "1d997c61-7cbe-4f34-f961-dd2a3055c255"
      },
      "execution_count": null,
      "outputs": [
        {
          "output_type": "stream",
          "name": "stdout",
          "text": [
            "Mounted at /content/drive\n"
          ]
        }
      ]
    },
    {
      "cell_type": "code",
      "source": [
        "class hot_dna:\n",
        " def __init__(self,fasta):\n",
        "   \n",
        "  #check for and grab sequence name\n",
        "  if re.search(\">\",fasta):\n",
        "   name = re.split(\"\\n\",fasta)[0]\n",
        "   sequence = re.split(\"\\n\",fasta)[1]\n",
        "  else :\n",
        "   name = 'unknown_sequence'\n",
        "   sequence = fasta\n",
        "  \n",
        "  #get sequence into an array\n",
        "   seq_array = array(list(sequence))\n",
        "#integer encode the sequence\n",
        "   label_encoder = LabelEncoder()\n",
        "   integer_encoded_seq = label_encoder.fit_transform(seq_array) \n",
        "  #one hot the sequence\n",
        "   onehot_encoder = OneHotEncoder(sparse=False)\n",
        "  #reshape because that's what OneHotEncoder likes\n",
        "   integer_encoded_seq = integer_encoded_seq.reshape(len(integer_encoded_seq), 1)\n",
        "   onehot_encoded_seq = onehot_encoder.fit_transform(integer_encoded_seq)\n",
        "   #add the attributes to self \n",
        "   self.name = name\n",
        "   self.sequence = fasta\n",
        "   self.integer = integer_encoded_seq\n",
        "   self.onehot = onehot_encoded_seq  "
      ],
      "metadata": {
        "id": "u5jj5DWQnwDL"
      },
      "execution_count": null,
      "outputs": []
    },
    {
      "cell_type": "code",
      "source": [
        "# EXAMPLE\n",
        "fasta = '/content/drive/MyDrive/Dataset/DNA-SEQUENCE-1/Combined-Long.txt'\n",
        "my_hottie = hot_dna(fasta)\n",
        "#print(my_hottie.sequence)\n",
        "#print(my_hottie.integer)"
      ],
      "metadata": {
        "id": "oaQAiYB9nyIz"
      },
      "execution_count": null,
      "outputs": []
    },
    {
      "cell_type": "code",
      "source": [
        "print(my_hottie.onehot)"
      ],
      "metadata": {
        "colab": {
          "base_uri": "https://localhost:8080/"
        },
        "id": "tTX1IIDhrV-f",
        "outputId": "4bbb38a1-d8ec-49d3-fdda-85c167d8693b"
      },
      "execution_count": null,
      "outputs": [
        {
          "output_type": "stream",
          "name": "stdout",
          "text": [
            "[[0. 0. 1. ... 0. 0. 0.]\n",
            " [0. 0. 0. ... 0. 0. 0.]\n",
            " [0. 0. 0. ... 0. 0. 0.]\n",
            " ...\n",
            " [0. 0. 0. ... 0. 0. 0.]\n",
            " [0. 0. 0. ... 0. 1. 0.]\n",
            " [0. 0. 0. ... 0. 0. 0.]]\n"
          ]
        }
      ]
    },
    {
      "cell_type": "code",
      "source": [
        "hott= my_hottie.onehot"
      ],
      "metadata": {
        "id": "cLV_j8N72Bu3"
      },
      "execution_count": null,
      "outputs": []
    },
    {
      "cell_type": "code",
      "source": [
        "print(\"Output: Hot encoding of DNA Sequence\", hott) "
      ],
      "metadata": {
        "colab": {
          "base_uri": "https://localhost:8080/"
        },
        "id": "6ANhxvd-2LSL",
        "outputId": "5f41cb8b-7366-468e-96fe-3b584888394e"
      },
      "execution_count": null,
      "outputs": [
        {
          "output_type": "stream",
          "name": "stdout",
          "text": [
            "Output: Hot encoding of DNA Sequence [[0. 0. 1. ... 0. 0. 0.]\n",
            " [0. 0. 0. ... 0. 0. 0.]\n",
            " [0. 0. 0. ... 0. 0. 0.]\n",
            " ...\n",
            " [0. 0. 0. ... 0. 0. 0.]\n",
            " [0. 0. 0. ... 0. 1. 0.]\n",
            " [0. 0. 0. ... 0. 0. 0.]]\n"
          ]
        }
      ]
    }
  ]
}